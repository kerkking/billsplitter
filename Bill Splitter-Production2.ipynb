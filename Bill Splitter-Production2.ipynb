{
 "cells": [
  {
   "cell_type": "code",
   "execution_count": 1,
   "metadata": {},
   "outputs": [],
   "source": [
    "import fastbook\n",
    "fastbook.setup_book()"
   ]
  },
  {
   "cell_type": "code",
   "execution_count": 5,
   "metadata": {},
   "outputs": [],
   "source": [
    "from fastbook import *\n",
    "from fastai.vision.widgets import *"
   ]
  },
  {
   "cell_type": "code",
   "execution_count": 2,
   "metadata": {},
   "outputs": [],
   "source": [
    "from __future__ import print_function\n",
    "from ipywidgets import interact, interactive, fixed, interact_manual"
   ]
  },
  {
   "cell_type": "code",
   "execution_count": 3,
   "metadata": {},
   "outputs": [],
   "source": [
    "import numpy as np\n",
    "import pandas as pd\n",
    "from heapq import merge"
   ]
  },
  {
   "cell_type": "markdown",
   "metadata": {},
   "source": [
    "## Who were the diners?"
   ]
  },
  {
   "cell_type": "code",
   "execution_count": 64,
   "metadata": {},
   "outputs": [],
   "source": [
    "# max_persons = False\n",
    "# btn_done = widgets.Button(description='Done with Names')\n",
    "# output3 = widgets.Output()\n",
    "\n",
    "# def on_click_lastname(change):\n",
    "#     print(\"button clicked\")\n",
    "#     max_persons = True\n",
    "#     print(max_persons)\n",
    "    \n",
    "# btn_done.on_click(on_click_lastname)\n",
    "# display(btn_done, output3)"
   ]
  },
  {
   "cell_type": "code",
   "execution_count": 72,
   "metadata": {},
   "outputs": [
    {
     "data": {
      "application/vnd.jupyter.widget-view+json": {
       "model_id": "4791cd56184d4b8a881f8e8ef09ba7f2",
       "version_major": 2,
       "version_minor": 0
      },
      "text/plain": [
       "Text(value='', description='Input Name:', placeholder='Input name and press enter')"
      ]
     },
     "metadata": {},
     "output_type": "display_data"
    },
    {
     "name": "stdout",
     "output_type": "stream",
     "text": [
      "These are the diners:\n",
      "['kerk']\n"
     ]
    }
   ],
   "source": [
    "list_name=[]\n",
    "name_input = widgets.Text(\n",
    "    value='',\n",
    "    placeholder='Input name and press enter',\n",
    "    description='Input Name:',\n",
    "    disabled=False)\n",
    "\n",
    "#@interact(trigger_name=name_input)\n",
    "def trigger_name(b):\n",
    "#     print(b)\n",
    "#     print(name_input.value)\n",
    "    list_name.append(name_input.value)\n",
    "    #name_input.value = ''\n",
    "    print(list_name)\n",
    "    return(trigger_name)\n",
    "    \n",
    "name_input.on_submit(trigger_name)    \n",
    "\n",
    "display(name_input)\n",
    "print(\"These are the diners:\")"
   ]
  },
  {
   "cell_type": "code",
   "execution_count": 5,
   "metadata": {},
   "outputs": [
    {
     "name": "stdout",
     "output_type": "stream",
     "text": [
      "Enter name, or 'done' to stop: kerk\n",
      "['kerk']\n",
      "Enter name, or 'done' to stop: xy\n",
      "['kerk', 'xy']\n",
      "Enter name, or 'done' to stop: chewie\n",
      "['kerk', 'xy', 'chewie']\n",
      "Enter name, or 'done' to stop: done\n",
      "['kerk', 'xy', 'chewie']\n"
     ]
    }
   ],
   "source": [
    "# list_name=[]\n",
    "# while True:\n",
    "#     try:\n",
    "#         name = input(\"Enter name, or 'done' to stop: \")\n",
    "#         if name == 'done':\n",
    "#             break\n",
    "#         list_name.append(name)\n",
    "#         print(list_name)\n",
    "#     except Exception as e:\n",
    "#         print(e)\n",
    "        \n",
    "# print(list_name)"
   ]
  },
  {
   "cell_type": "markdown",
   "metadata": {},
   "source": [
    "## Input menu items and price"
   ]
  },
  {
   "cell_type": "code",
   "execution_count": 48,
   "metadata": {},
   "outputs": [
    {
     "data": {
      "application/vnd.jupyter.widget-view+json": {
       "model_id": "3cdd1635c5c8447eba4cca928c9adae2",
       "version_major": 2,
       "version_minor": 0
      },
      "text/plain": [
       "Text(value='', description='Input Menu Item:', placeholder='Input menu item and press enter')"
      ]
     },
     "metadata": {},
     "output_type": "display_data"
    },
    {
     "data": {
      "application/vnd.jupyter.widget-view+json": {
       "model_id": "9276a9ae4362436ea3456d6a3e9eb019",
       "version_major": 2,
       "version_minor": 0
      },
      "text/plain": [
       "FloatText(value=0.0, description='Input Menu Price:')"
      ]
     },
     "metadata": {},
     "output_type": "display_data"
    },
    {
     "name": "stdout",
     "output_type": "stream",
     "text": [
      "These are the menu items and menu prices:\n",
      "['burger']\n",
      "[16.0]\n",
      "['burger', 'fries']\n",
      "[16.0, 5.0]\n",
      "['burger', 'fries', 'shakes']\n",
      "[16.0, 5.0, 6.0]\n"
     ]
    }
   ],
   "source": [
    "list_menu=[]\n",
    "list_menu_price=[]\n",
    "menu_input = widgets.Text(\n",
    "    value='',\n",
    "    placeholder='Input menu item and press enter',\n",
    "    description='Input Menu Item:',\n",
    "    disabled=False)\n",
    "\n",
    "menu_price_input = widgets.FloatText(\n",
    "    value=0,\n",
    "    description='Input Menu Price:',\n",
    "    disabled=False\n",
    ")\n",
    "\n",
    "\n",
    "\n",
    "def trigger_menu(b):\n",
    "#     print(b)\n",
    "#     print(name_input.value)\n",
    "    list_menu.append(menu_input.value)\n",
    "    menu_input.value = ''\n",
    "    print(list_menu)\n",
    "    \n",
    "def trigger_menu_price(b):\n",
    "#     print(b)\n",
    "#     print(name_input.value)\n",
    "    list_menu_price.append(menu_price_input.value)\n",
    "    #menu_price_input.value = 0\n",
    "    print(list_menu_price)\n",
    "\n",
    "menu_input.on_submit(trigger_menu)\n",
    "menu_price_input.observe(trigger_menu_price, names=\"value\")    \n",
    "\n",
    "display(menu_input)\n",
    "display(menu_price_input)\n",
    "print(\"These are the menu items and menu prices:\")"
   ]
  },
  {
   "cell_type": "code",
   "execution_count": 46,
   "metadata": {},
   "outputs": [
    {
     "data": {
      "application/vnd.jupyter.widget-view+json": {
       "model_id": "3e2d60a8aab5479695bd259017f83079",
       "version_major": 2,
       "version_minor": 0
      },
      "text/plain": [
       "FloatText(value=0.0, description='Any:')"
      ]
     },
     "metadata": {},
     "output_type": "display_data"
    },
    {
     "name": "stdout",
     "output_type": "stream",
     "text": [
      "[15.0]\n"
     ]
    }
   ],
   "source": [
    "#testing for float\n",
    "\n",
    "list_menu_price=[]\n",
    "\n",
    "menu_price_input = widgets.FloatText(\n",
    "    value=0,\n",
    "    description='Any:',\n",
    "    disabled=False\n",
    ")\n",
    "\n",
    "\n",
    "def trigger_menu_price(b):\n",
    "#    print(b)\n",
    "#     print(name_input.value)\n",
    "    list_menu_price.append(menu_price_input.value)\n",
    "    #menu_price_input.value = 0\n",
    "    print(list_menu_price)\n",
    "    \n",
    "menu_price_input.observe(trigger_menu_price, names=\"value\")    \n",
    "display(menu_price_input)\n"
   ]
  },
  {
   "cell_type": "code",
   "execution_count": 39,
   "metadata": {},
   "outputs": [
    {
     "data": {
      "text/plain": [
       "15.0"
      ]
     },
     "execution_count": 39,
     "metadata": {},
     "output_type": "execute_result"
    }
   ],
   "source": [
    "menu_price_input.value"
   ]
  },
  {
   "cell_type": "code",
   "execution_count": 43,
   "metadata": {},
   "outputs": [
    {
     "data": {
      "text/plain": [
       "[0.0, 15.0, 15.0]"
      ]
     },
     "execution_count": 43,
     "metadata": {},
     "output_type": "execute_result"
    }
   ],
   "source": [
    "list_menu_price"
   ]
  },
  {
   "cell_type": "code",
   "execution_count": 6,
   "metadata": {},
   "outputs": [
    {
     "name": "stdout",
     "output_type": "stream",
     "text": [
      "Enter menu item, or 'done' to stop: burger\n",
      "Enter menu price: 16\n",
      "['burger']\n",
      "[16.0]\n",
      "Enter menu item, or 'done' to stop: fries\n",
      "Enter menu price: 6\n",
      "['burger', 'fries']\n",
      "[16.0, 6.0]\n",
      "Enter menu item, or 'done' to stop: shakes\n",
      "Enter menu price: 7\n",
      "['burger', 'fries', 'shakes']\n",
      "[16.0, 6.0, 7.0]\n",
      "Enter menu item, or 'done' to stop: done\n",
      "['burger', 'fries', 'shakes']\n",
      "[16.0, 6.0, 7.0]\n"
     ]
    }
   ],
   "source": [
    "# list_menu=[]\n",
    "# list_menu_price=[]\n",
    "# list_whoate=[]\n",
    "# menu = ''\n",
    "# while menu != 'done':\n",
    "#     menu = input(\"Enter menu item, or 'done' to stop: \")\n",
    "#     if menu != 'done':\n",
    "#         menu_price = float(input(\"Enter menu price: \"))\n",
    "#         #checkboxes = [widgets.Checkbox(value=False, description=label) for label in list_name]\n",
    "#         #output = widgets.VBox(children=checkboxes)\n",
    "#         #display(output)\n",
    "#         #menu_price = float(input(\"Enter menu price: \"))\n",
    "#         #[box.observe(get_name) for box in checkboxes]\n",
    "#         list_menu.append(menu)\n",
    "#         list_menu_price.append(menu_price)\n",
    "#         print(list_menu)\n",
    "#         print(list_menu_price)\n",
    "        \n",
    "\n",
    "# print(list_menu)\n",
    "# print(list_menu_price)"
   ]
  },
  {
   "cell_type": "code",
   "execution_count": 13,
   "metadata": {},
   "outputs": [
    {
     "data": {
      "application/vnd.jupyter.widget-view+json": {
       "model_id": "cb778aaa7f3c4b23baf6e5fb1c727f56",
       "version_major": 2,
       "version_minor": 0
      },
      "text/plain": [
       "Checkbox(value=False, description='Kerk')"
      ]
     },
     "metadata": {},
     "output_type": "display_data"
    },
    {
     "data": {
      "application/vnd.jupyter.widget-view+json": {
       "model_id": "f70773c2ef8e44be931ce9643897ef38",
       "version_major": 2,
       "version_minor": 0
      },
      "text/plain": [
       "Checkbox(value=False, description='XY')"
      ]
     },
     "metadata": {},
     "output_type": "display_data"
    },
    {
     "data": {
      "application/vnd.jupyter.widget-view+json": {
       "model_id": "25bb8329ea8e4179b5efcc4ef6558603",
       "version_major": 2,
       "version_minor": 0
      },
      "text/plain": [
       "Checkbox(value=False, description='Chewie')"
      ]
     },
     "metadata": {},
     "output_type": "display_data"
    },
    {
     "data": {
      "text/plain": [
       "[None, None, None]"
      ]
     },
     "execution_count": 13,
     "metadata": {},
     "output_type": "execute_result"
    }
   ],
   "source": [
    "#master function for get_name\n",
    "\n",
    "list_whoate=[]\n",
    "tab_menu_position=[]\n",
    "\n",
    "checkboxes = [widgets.Checkbox(value=False, description=label) for label in list_name]\n",
    "output = widgets.VBox(children=checkboxes)\n",
    "#@out.capture()\n",
    "def get_name(metadata):\n",
    "    #print(metadata)\n",
    "    #print(metadata['owner'].value)\n",
    "    if isinstance(metadata['new'],bool):\n",
    "        name = metadata['owner'].description\n",
    "        if metadata['new'] == True:\n",
    "            list_whoate.append(name)\n",
    "            tab_menu_position.append(tab.selected_index)\n",
    "        #else:\n",
    "            #list_whoate.pop(-1)\n",
    "\n",
    "[box.observe(get_name) for box in checkboxes]\n",
    "[display(box) for box in checkboxes]\n",
    "#display(output)"
   ]
  },
  {
   "cell_type": "code",
   "execution_count": 14,
   "metadata": {},
   "outputs": [
    {
     "data": {
      "application/vnd.jupyter.widget-view+json": {
       "model_id": "4ca7fb35b28f47cf80ae0e78b4a523bb",
       "version_major": 2,
       "version_minor": 0
      },
      "text/plain": [
       "Tab(children=(VBox(children=(Checkbox(value=False, description='Kerk'), Checkbox(value=False, description='XY'…"
      ]
     },
     "metadata": {},
     "output_type": "display_data"
    }
   ],
   "source": [
    "list_whoate = []\n",
    "tab_menu_position = []\n",
    "\n",
    "tab_contents = list_menu\n",
    "children = [output for name in tab_contents]\n",
    "tab = widgets.Tab()\n",
    "tab.children = children\n",
    "for i in range(len(children)):\n",
    "    tab.set_title(i, list_menu[i])\n",
    "tab\n",
    "\n",
    "def tab_change(metadata):\n",
    "    #print(metadata)\n",
    "    #print(metadata['type'])\n",
    "    if metadata['type'] == 'change':\n",
    "        #print('test')\n",
    "        for i in (range(len(list_name))):\n",
    "            checkboxes[i].value = False\n",
    "        \n",
    "        \n",
    "tab.observe(tab_change)\n",
    "tab"
   ]
  },
  {
   "cell_type": "code",
   "execution_count": null,
   "metadata": {},
   "outputs": [],
   "source": [
    "# button = widgets.Button(description=\"Generate Split Bill!\")\n",
    "# output2 = widgets.Output()\n",
    "\n",
    "# display(button, output2)\n",
    "\n",
    "# def on_button_clicked(b):\n",
    "    \n",
    "    \n",
    "\n",
    "# button.on_click(on_button_clicked)\n",
    "# print(btn_next)"
   ]
  },
  {
   "cell_type": "code",
   "execution_count": 49,
   "metadata": {},
   "outputs": [
    {
     "data": {
      "text/plain": [
       "['burger', 'burger', 'burger', 'fries', 'fries', 'shakes']"
      ]
     },
     "execution_count": 49,
     "metadata": {},
     "output_type": "execute_result"
    }
   ],
   "source": [
    "final_list_menu = []\n",
    "for i in (range(len(tab_menu_position))):\n",
    "    final_list_menu.append(list_menu[tab_menu_position[i]])\n",
    "    \n",
    "final_list_menu"
   ]
  },
  {
   "cell_type": "code",
   "execution_count": 50,
   "metadata": {},
   "outputs": [
    {
     "data": {
      "text/plain": [
       "[16.0, 16.0, 16.0, 5.0, 5.0, 6.0]"
      ]
     },
     "execution_count": 50,
     "metadata": {},
     "output_type": "execute_result"
    }
   ],
   "source": [
    "final_list_menu_price = []\n",
    "for i in (range(len(tab_menu_position))):\n",
    "    final_list_menu_price.append(list_menu_price[tab_menu_position[i]])\n",
    "    \n",
    "final_list_menu_price"
   ]
  },
  {
   "cell_type": "code",
   "execution_count": 51,
   "metadata": {},
   "outputs": [
    {
     "data": {
      "text/html": [
       "<div>\n",
       "<style scoped>\n",
       "    .dataframe tbody tr th:only-of-type {\n",
       "        vertical-align: middle;\n",
       "    }\n",
       "\n",
       "    .dataframe tbody tr th {\n",
       "        vertical-align: top;\n",
       "    }\n",
       "\n",
       "    .dataframe thead th {\n",
       "        text-align: right;\n",
       "    }\n",
       "</style>\n",
       "<table border=\"1\" class=\"dataframe\">\n",
       "  <thead>\n",
       "    <tr style=\"text-align: right;\">\n",
       "      <th></th>\n",
       "      <th>MENU_ITEM</th>\n",
       "      <th>MENU_ITEM_PRICE</th>\n",
       "      <th>CONSUMER</th>\n",
       "    </tr>\n",
       "  </thead>\n",
       "  <tbody>\n",
       "    <tr>\n",
       "      <th>0</th>\n",
       "      <td>burger</td>\n",
       "      <td>16.0</td>\n",
       "      <td>Kerk</td>\n",
       "    </tr>\n",
       "    <tr>\n",
       "      <th>1</th>\n",
       "      <td>burger</td>\n",
       "      <td>16.0</td>\n",
       "      <td>XY</td>\n",
       "    </tr>\n",
       "    <tr>\n",
       "      <th>2</th>\n",
       "      <td>burger</td>\n",
       "      <td>16.0</td>\n",
       "      <td>Chewie</td>\n",
       "    </tr>\n",
       "    <tr>\n",
       "      <th>3</th>\n",
       "      <td>fries</td>\n",
       "      <td>5.0</td>\n",
       "      <td>XY</td>\n",
       "    </tr>\n",
       "    <tr>\n",
       "      <th>4</th>\n",
       "      <td>fries</td>\n",
       "      <td>5.0</td>\n",
       "      <td>Chewie</td>\n",
       "    </tr>\n",
       "    <tr>\n",
       "      <th>5</th>\n",
       "      <td>shakes</td>\n",
       "      <td>6.0</td>\n",
       "      <td>Kerk</td>\n",
       "    </tr>\n",
       "  </tbody>\n",
       "</table>\n",
       "</div>"
      ],
      "text/plain": [
       "  MENU_ITEM  MENU_ITEM_PRICE CONSUMER\n",
       "0    burger             16.0     Kerk\n",
       "1    burger             16.0       XY\n",
       "2    burger             16.0   Chewie\n",
       "3     fries              5.0       XY\n",
       "4     fries              5.0   Chewie\n",
       "5    shakes              6.0     Kerk"
      ]
     },
     "execution_count": 51,
     "metadata": {},
     "output_type": "execute_result"
    }
   ],
   "source": [
    "df = pd.DataFrame(list_whoate, columns = ['CONSUMER'])\n",
    "df.insert(0,'MENU_ITEM',final_list_menu, True)\n",
    "df.insert(1,'MENU_ITEM_PRICE',final_list_menu_price, True)\n",
    "df"
   ]
  },
  {
   "cell_type": "code",
   "execution_count": 52,
   "metadata": {},
   "outputs": [
    {
     "data": {
      "text/html": [
       "<div>\n",
       "<style scoped>\n",
       "    .dataframe tbody tr th:only-of-type {\n",
       "        vertical-align: middle;\n",
       "    }\n",
       "\n",
       "    .dataframe tbody tr th {\n",
       "        vertical-align: top;\n",
       "    }\n",
       "\n",
       "    .dataframe thead th {\n",
       "        text-align: right;\n",
       "    }\n",
       "</style>\n",
       "<table border=\"1\" class=\"dataframe\">\n",
       "  <thead>\n",
       "    <tr style=\"text-align: right;\">\n",
       "      <th>CONSUMER</th>\n",
       "      <th>Chewie</th>\n",
       "      <th>Kerk</th>\n",
       "      <th>XY</th>\n",
       "    </tr>\n",
       "    <tr>\n",
       "      <th>MENU_ITEM</th>\n",
       "      <th></th>\n",
       "      <th></th>\n",
       "      <th></th>\n",
       "    </tr>\n",
       "  </thead>\n",
       "  <tbody>\n",
       "    <tr>\n",
       "      <th>burger</th>\n",
       "      <td>16.0</td>\n",
       "      <td>16.0</td>\n",
       "      <td>16.0</td>\n",
       "    </tr>\n",
       "    <tr>\n",
       "      <th>fries</th>\n",
       "      <td>5.0</td>\n",
       "      <td>NaN</td>\n",
       "      <td>5.0</td>\n",
       "    </tr>\n",
       "    <tr>\n",
       "      <th>shakes</th>\n",
       "      <td>NaN</td>\n",
       "      <td>6.0</td>\n",
       "      <td>NaN</td>\n",
       "    </tr>\n",
       "  </tbody>\n",
       "</table>\n",
       "</div>"
      ],
      "text/plain": [
       "CONSUMER   Chewie  Kerk    XY\n",
       "MENU_ITEM                    \n",
       "burger       16.0  16.0  16.0\n",
       "fries         5.0   NaN   5.0\n",
       "shakes        NaN   6.0   NaN"
      ]
     },
     "execution_count": 52,
     "metadata": {},
     "output_type": "execute_result"
    }
   ],
   "source": [
    "table = pd.pivot_table(df, values = 'MENU_ITEM_PRICE', index = ['MENU_ITEM'], columns = ['CONSUMER'], aggfunc={'MENU_ITEM_PRICE': np.sum})\n",
    "table"
   ]
  },
  {
   "cell_type": "code",
   "execution_count": 53,
   "metadata": {},
   "outputs": [
    {
     "name": "stderr",
     "output_type": "stream",
     "text": [
      "/opt/conda/envs/fastai/lib/python3.8/site-packages/pandas/core/reshape/merge.py:643: UserWarning: merging between different levels can give an unintended result (1 levels on the left,2 on the right)\n",
      "  warnings.warn(msg, UserWarning)\n"
     ]
    },
    {
     "data": {
      "text/html": [
       "<div>\n",
       "<style scoped>\n",
       "    .dataframe tbody tr th:only-of-type {\n",
       "        vertical-align: middle;\n",
       "    }\n",
       "\n",
       "    .dataframe tbody tr th {\n",
       "        vertical-align: top;\n",
       "    }\n",
       "\n",
       "    .dataframe thead th {\n",
       "        text-align: right;\n",
       "    }\n",
       "</style>\n",
       "<table border=\"1\" class=\"dataframe\">\n",
       "  <thead>\n",
       "    <tr style=\"text-align: right;\">\n",
       "      <th></th>\n",
       "      <th>MENU_ITEM</th>\n",
       "      <th>MENU_ITEM_PRICE</th>\n",
       "      <th>CONSUMER</th>\n",
       "      <th>(MENU_ITEM, count)</th>\n",
       "    </tr>\n",
       "  </thead>\n",
       "  <tbody>\n",
       "    <tr>\n",
       "      <th>0</th>\n",
       "      <td>burger</td>\n",
       "      <td>16.0</td>\n",
       "      <td>Kerk</td>\n",
       "      <td>3</td>\n",
       "    </tr>\n",
       "    <tr>\n",
       "      <th>1</th>\n",
       "      <td>burger</td>\n",
       "      <td>16.0</td>\n",
       "      <td>XY</td>\n",
       "      <td>3</td>\n",
       "    </tr>\n",
       "    <tr>\n",
       "      <th>2</th>\n",
       "      <td>burger</td>\n",
       "      <td>16.0</td>\n",
       "      <td>Chewie</td>\n",
       "      <td>3</td>\n",
       "    </tr>\n",
       "    <tr>\n",
       "      <th>3</th>\n",
       "      <td>fries</td>\n",
       "      <td>5.0</td>\n",
       "      <td>XY</td>\n",
       "      <td>2</td>\n",
       "    </tr>\n",
       "    <tr>\n",
       "      <th>4</th>\n",
       "      <td>fries</td>\n",
       "      <td>5.0</td>\n",
       "      <td>Chewie</td>\n",
       "      <td>2</td>\n",
       "    </tr>\n",
       "    <tr>\n",
       "      <th>5</th>\n",
       "      <td>shakes</td>\n",
       "      <td>6.0</td>\n",
       "      <td>Kerk</td>\n",
       "      <td>1</td>\n",
       "    </tr>\n",
       "  </tbody>\n",
       "</table>\n",
       "</div>"
      ],
      "text/plain": [
       "  MENU_ITEM  MENU_ITEM_PRICE CONSUMER  (MENU_ITEM, count)\n",
       "0    burger             16.0     Kerk                   3\n",
       "1    burger             16.0       XY                   3\n",
       "2    burger             16.0   Chewie                   3\n",
       "3     fries              5.0       XY                   2\n",
       "4     fries              5.0   Chewie                   2\n",
       "5    shakes              6.0     Kerk                   1"
      ]
     },
     "execution_count": 53,
     "metadata": {},
     "output_type": "execute_result"
    }
   ],
   "source": [
    "temp = df.groupby('MENU_ITEM').agg({'MENU_ITEM':['count']})\n",
    "temp\n",
    "df2 = df.join(temp, on='MENU_ITEM')\n",
    "df2"
   ]
  },
  {
   "cell_type": "code",
   "execution_count": 92,
   "metadata": {},
   "outputs": [
    {
     "data": {
      "text/plain": [
       "0    2\n",
       "1    2\n",
       "2    3\n",
       "3    3\n",
       "4    3\n",
       "5    1\n",
       "Name: (MENU_ITEM, count), dtype: int64"
      ]
     },
     "execution_count": 92,
     "metadata": {},
     "output_type": "execute_result"
    }
   ],
   "source": [
    "# df2[('MENU_ITEM', 'count')]"
   ]
  },
  {
   "cell_type": "code",
   "execution_count": 96,
   "metadata": {},
   "outputs": [
    {
     "data": {
      "text/html": [
       "<div>\n",
       "<style scoped>\n",
       "    .dataframe tbody tr th:only-of-type {\n",
       "        vertical-align: middle;\n",
       "    }\n",
       "\n",
       "    .dataframe tbody tr th {\n",
       "        vertical-align: top;\n",
       "    }\n",
       "\n",
       "    .dataframe thead th {\n",
       "        text-align: right;\n",
       "    }\n",
       "</style>\n",
       "<table border=\"1\" class=\"dataframe\">\n",
       "  <thead>\n",
       "    <tr style=\"text-align: right;\">\n",
       "      <th></th>\n",
       "      <th>MENU_ITEM</th>\n",
       "      <th>MENU_ITEM_PRICE</th>\n",
       "      <th>CONSUMER</th>\n",
       "      <th>new</th>\n",
       "      <th>new2</th>\n",
       "      <th>(MENU_ITEM, count)</th>\n",
       "    </tr>\n",
       "  </thead>\n",
       "  <tbody>\n",
       "    <tr>\n",
       "      <th>0</th>\n",
       "      <td>burger</td>\n",
       "      <td>16.0</td>\n",
       "      <td>kerk</td>\n",
       "      <td>16.0</td>\n",
       "      <td>NaN</td>\n",
       "      <td>2</td>\n",
       "    </tr>\n",
       "    <tr>\n",
       "      <th>1</th>\n",
       "      <td>burger</td>\n",
       "      <td>16.0</td>\n",
       "      <td>xy</td>\n",
       "      <td>16.0</td>\n",
       "      <td>NaN</td>\n",
       "      <td>2</td>\n",
       "    </tr>\n",
       "    <tr>\n",
       "      <th>2</th>\n",
       "      <td>fries</td>\n",
       "      <td>5.0</td>\n",
       "      <td>kerk</td>\n",
       "      <td>5.0</td>\n",
       "      <td>NaN</td>\n",
       "      <td>3</td>\n",
       "    </tr>\n",
       "    <tr>\n",
       "      <th>3</th>\n",
       "      <td>fries</td>\n",
       "      <td>5.0</td>\n",
       "      <td>xy</td>\n",
       "      <td>5.0</td>\n",
       "      <td>NaN</td>\n",
       "      <td>3</td>\n",
       "    </tr>\n",
       "    <tr>\n",
       "      <th>4</th>\n",
       "      <td>fries</td>\n",
       "      <td>5.0</td>\n",
       "      <td>chewie</td>\n",
       "      <td>5.0</td>\n",
       "      <td>NaN</td>\n",
       "      <td>3</td>\n",
       "    </tr>\n",
       "    <tr>\n",
       "      <th>5</th>\n",
       "      <td>shakes</td>\n",
       "      <td>6.0</td>\n",
       "      <td>chewie</td>\n",
       "      <td>6.0</td>\n",
       "      <td>NaN</td>\n",
       "      <td>1</td>\n",
       "    </tr>\n",
       "  </tbody>\n",
       "</table>\n",
       "</div>"
      ],
      "text/plain": [
       "  MENU_ITEM  MENU_ITEM_PRICE CONSUMER   new  new2  (MENU_ITEM, count)\n",
       "0    burger             16.0     kerk  16.0   NaN                   2\n",
       "1    burger             16.0       xy  16.0   NaN                   2\n",
       "2     fries              5.0     kerk   5.0   NaN                   3\n",
       "3     fries              5.0       xy   5.0   NaN                   3\n",
       "4     fries              5.0   chewie   5.0   NaN                   3\n",
       "5    shakes              6.0   chewie   6.0   NaN                   1"
      ]
     },
     "execution_count": 96,
     "metadata": {},
     "output_type": "execute_result"
    }
   ],
   "source": [
    "# df2.rename(columns={\"MENU_ITEM\":\"MENU_ITEM\",\"MENU_ITEM_PRICE\":\"MENU_ITEM_PRICE\",\"CONSUMER\":\"CONSUMER\",\"new\":\"new\",\"new2\":\"new2\",\"('MENU_ITEM', 'count')\":\"CONSUMER_COUNT\"})\n",
    "# df2"
   ]
  },
  {
   "cell_type": "code",
   "execution_count": 85,
   "metadata": {},
   "outputs": [
    {
     "name": "stdout",
     "output_type": "stream",
     "text": [
      "MENU_ITEM\n",
      "MENU_ITEM_PRICE\n",
      "CONSUMER\n",
      "new\n",
      "new2\n",
      "('MENU_ITEM', 'count')\n"
     ]
    }
   ],
   "source": [
    "for col in df2.columns:\n",
    "    print(col)"
   ]
  },
  {
   "cell_type": "code",
   "execution_count": 54,
   "metadata": {},
   "outputs": [
    {
     "data": {
      "text/html": [
       "<div>\n",
       "<style scoped>\n",
       "    .dataframe tbody tr th:only-of-type {\n",
       "        vertical-align: middle;\n",
       "    }\n",
       "\n",
       "    .dataframe tbody tr th {\n",
       "        vertical-align: top;\n",
       "    }\n",
       "\n",
       "    .dataframe thead th {\n",
       "        text-align: right;\n",
       "    }\n",
       "</style>\n",
       "<table border=\"1\" class=\"dataframe\">\n",
       "  <thead>\n",
       "    <tr style=\"text-align: right;\">\n",
       "      <th></th>\n",
       "      <th>MENU_ITEM</th>\n",
       "      <th>MENU_ITEM_PRICE</th>\n",
       "      <th>CONSUMER</th>\n",
       "      <th>(MENU_ITEM, count)</th>\n",
       "      <th>SPLIT_PRICE</th>\n",
       "      <th>tenpercent</th>\n",
       "      <th>sevenpercentgst</th>\n",
       "    </tr>\n",
       "  </thead>\n",
       "  <tbody>\n",
       "    <tr>\n",
       "      <th>0</th>\n",
       "      <td>burger</td>\n",
       "      <td>16.0</td>\n",
       "      <td>Kerk</td>\n",
       "      <td>3</td>\n",
       "      <td>5.333333</td>\n",
       "      <td>0.533333</td>\n",
       "      <td>0.410667</td>\n",
       "    </tr>\n",
       "    <tr>\n",
       "      <th>1</th>\n",
       "      <td>burger</td>\n",
       "      <td>16.0</td>\n",
       "      <td>XY</td>\n",
       "      <td>3</td>\n",
       "      <td>5.333333</td>\n",
       "      <td>0.533333</td>\n",
       "      <td>0.410667</td>\n",
       "    </tr>\n",
       "    <tr>\n",
       "      <th>2</th>\n",
       "      <td>burger</td>\n",
       "      <td>16.0</td>\n",
       "      <td>Chewie</td>\n",
       "      <td>3</td>\n",
       "      <td>5.333333</td>\n",
       "      <td>0.533333</td>\n",
       "      <td>0.410667</td>\n",
       "    </tr>\n",
       "    <tr>\n",
       "      <th>3</th>\n",
       "      <td>fries</td>\n",
       "      <td>5.0</td>\n",
       "      <td>XY</td>\n",
       "      <td>2</td>\n",
       "      <td>2.500000</td>\n",
       "      <td>0.250000</td>\n",
       "      <td>0.192500</td>\n",
       "    </tr>\n",
       "    <tr>\n",
       "      <th>4</th>\n",
       "      <td>fries</td>\n",
       "      <td>5.0</td>\n",
       "      <td>Chewie</td>\n",
       "      <td>2</td>\n",
       "      <td>2.500000</td>\n",
       "      <td>0.250000</td>\n",
       "      <td>0.192500</td>\n",
       "    </tr>\n",
       "    <tr>\n",
       "      <th>5</th>\n",
       "      <td>shakes</td>\n",
       "      <td>6.0</td>\n",
       "      <td>Kerk</td>\n",
       "      <td>1</td>\n",
       "      <td>6.000000</td>\n",
       "      <td>0.600000</td>\n",
       "      <td>0.462000</td>\n",
       "    </tr>\n",
       "  </tbody>\n",
       "</table>\n",
       "</div>"
      ],
      "text/plain": [
       "  MENU_ITEM  MENU_ITEM_PRICE CONSUMER  (MENU_ITEM, count)  SPLIT_PRICE  \\\n",
       "0    burger             16.0     Kerk                   3     5.333333   \n",
       "1    burger             16.0       XY                   3     5.333333   \n",
       "2    burger             16.0   Chewie                   3     5.333333   \n",
       "3     fries              5.0       XY                   2     2.500000   \n",
       "4     fries              5.0   Chewie                   2     2.500000   \n",
       "5    shakes              6.0     Kerk                   1     6.000000   \n",
       "\n",
       "   tenpercent  sevenpercentgst  \n",
       "0    0.533333         0.410667  \n",
       "1    0.533333         0.410667  \n",
       "2    0.533333         0.410667  \n",
       "3    0.250000         0.192500  \n",
       "4    0.250000         0.192500  \n",
       "5    0.600000         0.462000  "
      ]
     },
     "execution_count": 54,
     "metadata": {},
     "output_type": "execute_result"
    }
   ],
   "source": [
    "df2['SPLIT_PRICE'] = df2['MENU_ITEM_PRICE']/df2[('MENU_ITEM', 'count')]\n",
    "df2['tenpercent'] = 0.1*df2['MENU_ITEM_PRICE']/df2[('MENU_ITEM', 'count')]\n",
    "df2['sevenpercentgst'] = 0.07*((0.1*df2['MENU_ITEM_PRICE']/df2[('MENU_ITEM', 'count')])+(df2['MENU_ITEM_PRICE']/df2[('MENU_ITEM', 'count')]))\n",
    "df2"
   ]
  },
  {
   "cell_type": "code",
   "execution_count": 55,
   "metadata": {},
   "outputs": [
    {
     "data": {
      "text/html": [
       "<div>\n",
       "<style scoped>\n",
       "    .dataframe tbody tr th:only-of-type {\n",
       "        vertical-align: middle;\n",
       "    }\n",
       "\n",
       "    .dataframe tbody tr th {\n",
       "        vertical-align: top;\n",
       "    }\n",
       "\n",
       "    .dataframe thead th {\n",
       "        text-align: right;\n",
       "    }\n",
       "</style>\n",
       "<table border=\"1\" class=\"dataframe\">\n",
       "  <thead>\n",
       "    <tr style=\"text-align: right;\">\n",
       "      <th></th>\n",
       "      <th>MENU_ITEM</th>\n",
       "      <th>MENU_ITEM_PRICE</th>\n",
       "      <th>CONSUMER</th>\n",
       "      <th>(MENU_ITEM, count)</th>\n",
       "      <th>SPLIT_PRICE</th>\n",
       "      <th>tenpercent</th>\n",
       "      <th>sevenpercentgst</th>\n",
       "      <th>grandtotal</th>\n",
       "    </tr>\n",
       "  </thead>\n",
       "  <tbody>\n",
       "    <tr>\n",
       "      <th>0</th>\n",
       "      <td>burger</td>\n",
       "      <td>16.0</td>\n",
       "      <td>Kerk</td>\n",
       "      <td>3</td>\n",
       "      <td>5.333333</td>\n",
       "      <td>0.533333</td>\n",
       "      <td>0.410667</td>\n",
       "      <td>6.277333</td>\n",
       "    </tr>\n",
       "    <tr>\n",
       "      <th>1</th>\n",
       "      <td>burger</td>\n",
       "      <td>16.0</td>\n",
       "      <td>XY</td>\n",
       "      <td>3</td>\n",
       "      <td>5.333333</td>\n",
       "      <td>0.533333</td>\n",
       "      <td>0.410667</td>\n",
       "      <td>6.277333</td>\n",
       "    </tr>\n",
       "    <tr>\n",
       "      <th>2</th>\n",
       "      <td>burger</td>\n",
       "      <td>16.0</td>\n",
       "      <td>Chewie</td>\n",
       "      <td>3</td>\n",
       "      <td>5.333333</td>\n",
       "      <td>0.533333</td>\n",
       "      <td>0.410667</td>\n",
       "      <td>6.277333</td>\n",
       "    </tr>\n",
       "    <tr>\n",
       "      <th>3</th>\n",
       "      <td>fries</td>\n",
       "      <td>5.0</td>\n",
       "      <td>XY</td>\n",
       "      <td>2</td>\n",
       "      <td>2.500000</td>\n",
       "      <td>0.250000</td>\n",
       "      <td>0.192500</td>\n",
       "      <td>2.942500</td>\n",
       "    </tr>\n",
       "    <tr>\n",
       "      <th>4</th>\n",
       "      <td>fries</td>\n",
       "      <td>5.0</td>\n",
       "      <td>Chewie</td>\n",
       "      <td>2</td>\n",
       "      <td>2.500000</td>\n",
       "      <td>0.250000</td>\n",
       "      <td>0.192500</td>\n",
       "      <td>2.942500</td>\n",
       "    </tr>\n",
       "    <tr>\n",
       "      <th>5</th>\n",
       "      <td>shakes</td>\n",
       "      <td>6.0</td>\n",
       "      <td>Kerk</td>\n",
       "      <td>1</td>\n",
       "      <td>6.000000</td>\n",
       "      <td>0.600000</td>\n",
       "      <td>0.462000</td>\n",
       "      <td>7.062000</td>\n",
       "    </tr>\n",
       "  </tbody>\n",
       "</table>\n",
       "</div>"
      ],
      "text/plain": [
       "  MENU_ITEM  MENU_ITEM_PRICE CONSUMER  (MENU_ITEM, count)  SPLIT_PRICE  \\\n",
       "0    burger             16.0     Kerk                   3     5.333333   \n",
       "1    burger             16.0       XY                   3     5.333333   \n",
       "2    burger             16.0   Chewie                   3     5.333333   \n",
       "3     fries              5.0       XY                   2     2.500000   \n",
       "4     fries              5.0   Chewie                   2     2.500000   \n",
       "5    shakes              6.0     Kerk                   1     6.000000   \n",
       "\n",
       "   tenpercent  sevenpercentgst  grandtotal  \n",
       "0    0.533333         0.410667    6.277333  \n",
       "1    0.533333         0.410667    6.277333  \n",
       "2    0.533333         0.410667    6.277333  \n",
       "3    0.250000         0.192500    2.942500  \n",
       "4    0.250000         0.192500    2.942500  \n",
       "5    0.600000         0.462000    7.062000  "
      ]
     },
     "execution_count": 55,
     "metadata": {},
     "output_type": "execute_result"
    }
   ],
   "source": [
    "df2['grandtotal']=df2['SPLIT_PRICE']+df2['tenpercent']+df2['sevenpercentgst']\n",
    "df2"
   ]
  },
  {
   "cell_type": "code",
   "execution_count": 56,
   "metadata": {},
   "outputs": [
    {
     "data": {
      "text/html": [
       "<div>\n",
       "<style scoped>\n",
       "    .dataframe tbody tr th:only-of-type {\n",
       "        vertical-align: middle;\n",
       "    }\n",
       "\n",
       "    .dataframe tbody tr th {\n",
       "        vertical-align: top;\n",
       "    }\n",
       "\n",
       "    .dataframe thead tr th {\n",
       "        text-align: left;\n",
       "    }\n",
       "\n",
       "    .dataframe thead tr:last-of-type th {\n",
       "        text-align: right;\n",
       "    }\n",
       "</style>\n",
       "<table border=\"1\" class=\"dataframe\">\n",
       "  <thead>\n",
       "    <tr>\n",
       "      <th></th>\n",
       "      <th>grandtotal</th>\n",
       "    </tr>\n",
       "    <tr>\n",
       "      <th></th>\n",
       "      <th>sum</th>\n",
       "    </tr>\n",
       "    <tr>\n",
       "      <th>CONSUMER</th>\n",
       "      <th></th>\n",
       "    </tr>\n",
       "  </thead>\n",
       "  <tbody>\n",
       "    <tr>\n",
       "      <th>Chewie</th>\n",
       "      <td>9.219833</td>\n",
       "    </tr>\n",
       "    <tr>\n",
       "      <th>Kerk</th>\n",
       "      <td>13.339333</td>\n",
       "    </tr>\n",
       "    <tr>\n",
       "      <th>XY</th>\n",
       "      <td>9.219833</td>\n",
       "    </tr>\n",
       "  </tbody>\n",
       "</table>\n",
       "</div>"
      ],
      "text/plain": [
       "         grandtotal\n",
       "                sum\n",
       "CONSUMER           \n",
       "Chewie     9.219833\n",
       "Kerk      13.339333\n",
       "XY         9.219833"
      ]
     },
     "execution_count": 56,
     "metadata": {},
     "output_type": "execute_result"
    }
   ],
   "source": [
    "df3 = df2.groupby('CONSUMER').agg({'grandtotal':['sum']})\n",
    "df3"
   ]
  },
  {
   "cell_type": "code",
   "execution_count": 57,
   "metadata": {},
   "outputs": [
    {
     "name": "stderr",
     "output_type": "stream",
     "text": [
      "/opt/conda/envs/fastai/lib/python3.8/site-packages/pandas/core/reshape/merge.py:643: UserWarning: merging between different levels can give an unintended result (1 levels on the left,2 on the right)\n",
      "  warnings.warn(msg, UserWarning)\n"
     ]
    },
    {
     "data": {
      "text/html": [
       "<div>\n",
       "<style scoped>\n",
       "    .dataframe tbody tr th:only-of-type {\n",
       "        vertical-align: middle;\n",
       "    }\n",
       "\n",
       "    .dataframe tbody tr th {\n",
       "        vertical-align: top;\n",
       "    }\n",
       "\n",
       "    .dataframe thead th {\n",
       "        text-align: right;\n",
       "    }\n",
       "</style>\n",
       "<table border=\"1\" class=\"dataframe\">\n",
       "  <thead>\n",
       "    <tr style=\"text-align: right;\">\n",
       "      <th></th>\n",
       "      <th>MENU_ITEM</th>\n",
       "      <th>MENU_ITEM_PRICE</th>\n",
       "      <th>CONSUMER</th>\n",
       "      <th>(MENU_ITEM, count)</th>\n",
       "      <th>SPLIT_PRICE</th>\n",
       "      <th>tenpercent</th>\n",
       "      <th>sevenpercentgst</th>\n",
       "      <th>grandtotal</th>\n",
       "      <th>(grandtotal, sum)</th>\n",
       "    </tr>\n",
       "  </thead>\n",
       "  <tbody>\n",
       "    <tr>\n",
       "      <th>0</th>\n",
       "      <td>burger</td>\n",
       "      <td>16.0</td>\n",
       "      <td>Kerk</td>\n",
       "      <td>3</td>\n",
       "      <td>5.333333</td>\n",
       "      <td>0.533333</td>\n",
       "      <td>0.410667</td>\n",
       "      <td>6.277333</td>\n",
       "      <td>13.339333</td>\n",
       "    </tr>\n",
       "    <tr>\n",
       "      <th>1</th>\n",
       "      <td>burger</td>\n",
       "      <td>16.0</td>\n",
       "      <td>XY</td>\n",
       "      <td>3</td>\n",
       "      <td>5.333333</td>\n",
       "      <td>0.533333</td>\n",
       "      <td>0.410667</td>\n",
       "      <td>6.277333</td>\n",
       "      <td>9.219833</td>\n",
       "    </tr>\n",
       "    <tr>\n",
       "      <th>2</th>\n",
       "      <td>burger</td>\n",
       "      <td>16.0</td>\n",
       "      <td>Chewie</td>\n",
       "      <td>3</td>\n",
       "      <td>5.333333</td>\n",
       "      <td>0.533333</td>\n",
       "      <td>0.410667</td>\n",
       "      <td>6.277333</td>\n",
       "      <td>9.219833</td>\n",
       "    </tr>\n",
       "    <tr>\n",
       "      <th>3</th>\n",
       "      <td>fries</td>\n",
       "      <td>5.0</td>\n",
       "      <td>XY</td>\n",
       "      <td>2</td>\n",
       "      <td>2.500000</td>\n",
       "      <td>0.250000</td>\n",
       "      <td>0.192500</td>\n",
       "      <td>2.942500</td>\n",
       "      <td>9.219833</td>\n",
       "    </tr>\n",
       "    <tr>\n",
       "      <th>4</th>\n",
       "      <td>fries</td>\n",
       "      <td>5.0</td>\n",
       "      <td>Chewie</td>\n",
       "      <td>2</td>\n",
       "      <td>2.500000</td>\n",
       "      <td>0.250000</td>\n",
       "      <td>0.192500</td>\n",
       "      <td>2.942500</td>\n",
       "      <td>9.219833</td>\n",
       "    </tr>\n",
       "    <tr>\n",
       "      <th>5</th>\n",
       "      <td>shakes</td>\n",
       "      <td>6.0</td>\n",
       "      <td>Kerk</td>\n",
       "      <td>1</td>\n",
       "      <td>6.000000</td>\n",
       "      <td>0.600000</td>\n",
       "      <td>0.462000</td>\n",
       "      <td>7.062000</td>\n",
       "      <td>13.339333</td>\n",
       "    </tr>\n",
       "  </tbody>\n",
       "</table>\n",
       "</div>"
      ],
      "text/plain": [
       "  MENU_ITEM  MENU_ITEM_PRICE CONSUMER  (MENU_ITEM, count)  SPLIT_PRICE  \\\n",
       "0    burger             16.0     Kerk                   3     5.333333   \n",
       "1    burger             16.0       XY                   3     5.333333   \n",
       "2    burger             16.0   Chewie                   3     5.333333   \n",
       "3     fries              5.0       XY                   2     2.500000   \n",
       "4     fries              5.0   Chewie                   2     2.500000   \n",
       "5    shakes              6.0     Kerk                   1     6.000000   \n",
       "\n",
       "   tenpercent  sevenpercentgst  grandtotal  (grandtotal, sum)  \n",
       "0    0.533333         0.410667    6.277333          13.339333  \n",
       "1    0.533333         0.410667    6.277333           9.219833  \n",
       "2    0.533333         0.410667    6.277333           9.219833  \n",
       "3    0.250000         0.192500    2.942500           9.219833  \n",
       "4    0.250000         0.192500    2.942500           9.219833  \n",
       "5    0.600000         0.462000    7.062000          13.339333  "
      ]
     },
     "execution_count": 57,
     "metadata": {},
     "output_type": "execute_result"
    }
   ],
   "source": [
    "df4 = df2.join(df3, on='CONSUMER')\n",
    "df4"
   ]
  },
  {
   "cell_type": "code",
   "execution_count": 58,
   "metadata": {},
   "outputs": [
    {
     "data": {
      "text/html": [
       "<div>\n",
       "<style scoped>\n",
       "    .dataframe tbody tr th:only-of-type {\n",
       "        vertical-align: middle;\n",
       "    }\n",
       "\n",
       "    .dataframe tbody tr th {\n",
       "        vertical-align: top;\n",
       "    }\n",
       "\n",
       "    .dataframe thead th {\n",
       "        text-align: right;\n",
       "    }\n",
       "</style>\n",
       "<table border=\"1\" class=\"dataframe\">\n",
       "  <thead>\n",
       "    <tr style=\"text-align: right;\">\n",
       "      <th>CONSUMER</th>\n",
       "      <th>Chewie</th>\n",
       "      <th>Kerk</th>\n",
       "      <th>XY</th>\n",
       "    </tr>\n",
       "  </thead>\n",
       "  <tbody>\n",
       "    <tr>\n",
       "      <th>grandtotal</th>\n",
       "      <td>9.219833</td>\n",
       "      <td>13.339333</td>\n",
       "      <td>9.219833</td>\n",
       "    </tr>\n",
       "  </tbody>\n",
       "</table>\n",
       "</div>"
      ],
      "text/plain": [
       "CONSUMER      Chewie       Kerk        XY\n",
       "grandtotal  9.219833  13.339333  9.219833"
      ]
     },
     "execution_count": 58,
     "metadata": {},
     "output_type": "execute_result"
    }
   ],
   "source": [
    "table3 = pd.pivot_table(df4, values = 'grandtotal', columns = ['CONSUMER'], aggfunc={'grandtotal': np.sum}, fill_value=0)\n",
    "table3"
   ]
  },
  {
   "cell_type": "code",
   "execution_count": 23,
   "metadata": {},
   "outputs": [
    {
     "data": {
      "text/html": [
       "<div>\n",
       "<style scoped>\n",
       "    .dataframe tbody tr th:only-of-type {\n",
       "        vertical-align: middle;\n",
       "    }\n",
       "\n",
       "    .dataframe tbody tr th {\n",
       "        vertical-align: top;\n",
       "    }\n",
       "\n",
       "    .dataframe thead th {\n",
       "        text-align: right;\n",
       "    }\n",
       "</style>\n",
       "<table border=\"1\" class=\"dataframe\">\n",
       "  <thead>\n",
       "    <tr style=\"text-align: right;\">\n",
       "      <th>CONSUMER</th>\n",
       "      <th>chewie</th>\n",
       "      <th>kerk</th>\n",
       "      <th>xy</th>\n",
       "    </tr>\n",
       "    <tr>\n",
       "      <th>MENU_ITEM</th>\n",
       "      <th></th>\n",
       "      <th></th>\n",
       "      <th></th>\n",
       "    </tr>\n",
       "  </thead>\n",
       "  <tbody>\n",
       "    <tr>\n",
       "      <th>burger</th>\n",
       "      <td>0.000</td>\n",
       "      <td>9.416</td>\n",
       "      <td>9.416</td>\n",
       "    </tr>\n",
       "    <tr>\n",
       "      <th>fries</th>\n",
       "      <td>2.354</td>\n",
       "      <td>2.354</td>\n",
       "      <td>2.354</td>\n",
       "    </tr>\n",
       "    <tr>\n",
       "      <th>shakes</th>\n",
       "      <td>8.239</td>\n",
       "      <td>0.000</td>\n",
       "      <td>0.000</td>\n",
       "    </tr>\n",
       "  </tbody>\n",
       "</table>\n",
       "</div>"
      ],
      "text/plain": [
       "CONSUMER   chewie   kerk     xy\n",
       "MENU_ITEM                      \n",
       "burger      0.000  9.416  9.416\n",
       "fries       2.354  2.354  2.354\n",
       "shakes      8.239  0.000  0.000"
      ]
     },
     "execution_count": 23,
     "metadata": {},
     "output_type": "execute_result"
    }
   ],
   "source": [
    "# table2 = pd.pivot_table(df2, values = 'grandtotal', index = ['MENU_ITEM'], columns = ['CONSUMER'], aggfunc={'grandtotal': np.sum}, fill_value=0)\n",
    "# table2"
   ]
  }
 ],
 "metadata": {
  "kernelspec": {
   "display_name": "Python 3",
   "language": "python",
   "name": "python3"
  },
  "language_info": {
   "codemirror_mode": {
    "name": "ipython",
    "version": 3
   },
   "file_extension": ".py",
   "mimetype": "text/x-python",
   "name": "python",
   "nbconvert_exporter": "python",
   "pygments_lexer": "ipython3",
   "version": "3.8.6"
  }
 },
 "nbformat": 4,
 "nbformat_minor": 4
}
